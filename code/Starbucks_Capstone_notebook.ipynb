{
 "cells": [
  {
   "cell_type": "markdown",
   "metadata": {},
   "source": [
    "# Starbucks Capstone Challenge"
   ]
  },
  {
   "cell_type": "markdown",
   "metadata": {},
   "source": [
    "## PART 1. Project Definition"
   ]
  },
  {
   "cell_type": "markdown",
   "metadata": {},
   "source": [
    "### Project Overview"
   ]
  },
  {
   "cell_type": "markdown",
   "metadata": {},
   "source": [
    "Once in a while, Starbucks send out offers to their customers as a marketing strategy. Offers are of different types and every customers may receive different kinds and numbers of special offers. Starbucks keeps records of their customers' demographic data, offer portfolio and transcript data including customers' transactions and offers' sending out."
   ]
  },
  {
   "cell_type": "markdown",
   "metadata": {},
   "source": [
    "### Problem Statement"
   ]
  },
  {
   "cell_type": "markdown",
   "metadata": {},
   "source": [
    "There are all kinds of problems to be solved using the data provided. Specifically for this project, we are going to focus on building a **classification machine learning model**. As we know, Starbucks send out offers with costs, so they are interested in knowing whether one offer will be completed or not by a certain user. If one offer is predicted to be 'not completed' in the future, then Starbucks can save money by not sending out this offer. Apart from making predictions, this model can also tell us how different features impact the final prediction. "
   ]
  },
  {
   "cell_type": "markdown",
   "metadata": {},
   "source": [
    "### Metrics"
   ]
  },
  {
   "cell_type": "markdown",
   "metadata": {},
   "source": [
    "We will see in a later section that our data is not severely imbalanced. In other words, 54% of the offers are completed and 46% of them are not. Moreover, this is a binary classification problem, meaning that we only have two classes as our target - **True** for 'completed' and **False** for 'not completed'. Therefore, we are good to go with the simplest classification metrics - **accuracy**, which denotes the percentage of correct predictions.`"
   ]
  },
  {
   "cell_type": "markdown",
   "metadata": {},
   "source": [
    "### Assumptions"
   ]
  },
  {
   "cell_type": "markdown",
   "metadata": {},
   "source": [
    "Before we build any machine learning model, we should formulate some assumptions. These assumptions will come into help when we validate our model and can also spark ideas on feature engineering.\n",
    "\n",
    "1. Customers with higher income are more likely to complete an offer because they are more capable of doing so.\n",
    "2. Loyal customers are more likely to complete an offer. However, how to define a potential loyal customer is a problem itself. Maybe we should use feature engineering to create features that can reflect customers' loyalty.\n",
    "3. Demographics as well as customer behavior data can both be helpful in building our model. \n",
    "4. Offer data such as offer type, difficulty to complete and reward can be useful."
   ]
  },
  {
   "cell_type": "markdown",
   "metadata": {},
   "source": [
    "### Dataset Overview (Credit to Udacity)"
   ]
  },
  {
   "cell_type": "markdown",
   "metadata": {},
   "source": [
    "This data set is a simplified version of the real Starbucks app because we assume Starbucks only sells one product here. All offers are for that only one product.\n",
    "The data is contained in three files:\n",
    "\n",
    "* portfolio.json - containing offer ids and meta data about each offer (duration, type, etc.)\n",
    "* profile.json - demographic data for each customer\n",
    "* transcript.json - records for transactions, offers received, offers viewed, and offers completed\n",
    "\n",
    "Here is the schema and explanation of each variable in the files:\n",
    "\n",
    "**portfolio.json**\n",
    "* id (string) - offer id\n",
    "* offer_type (string) - type of offer ie BOGO, discount, informational. BOGO standsfor '**B**uy **O**ne **G**et **O**ne'.\n",
    "* difficulty (int) - minimum required spend to complete an offer\n",
    "* reward (int) - reward given for completing an offer\n",
    "* duration (int) - time for offer to be open, in **days**\n",
    "* channels (list of strings)\n",
    "\n",
    "**profile.json**\n",
    "* age (int) - age of the customer \n",
    "* became_member_on (int) - date when customer created an app account\n",
    "* gender (str) - gender of the customer (note some entries contain 'O' for other rather than M or F)\n",
    "* id (str) - customer id\n",
    "* income (float) - customer's income\n",
    "\n",
    "**transcript.json**\n",
    "* event (str) - record description (ie transaction, offer received, offer viewed, etc.)\n",
    "* person (str) - customer id\n",
    "* time (int) - time in **hours** since start of test. The data begins at time t=0\n",
    "* value - (dict of strings) - either an offer id or transaction amount depending on the record"
   ]
  },
  {
   "cell_type": "markdown",
   "metadata": {},
   "source": [
    "### Examples"
   ]
  },
  {
   "cell_type": "markdown",
   "metadata": {},
   "source": [
    "Here we will see some examples to better understand our data:\n",
    "\n",
    "1. An customer received an BOGO offer of 10 dollars. This offer needed to be completed within 7 days. This customer finally reached 10 dollars at the 8th day, so this customer did NOT complete this offer.\n",
    "2. An customer received an BOGO offer of 10 dollars. This customer did not view this offer but reached 10 dollars at the 6th day. This user managed to complete this offer WITHOUT viewing it.\n",
    "3. An customer might receive the same offer several times. Therefore, customer_id + offer_id is NOT the unique identifier in the transcript data. In other words, there can be multiple records with the same (customer_id, offer_id) combination."
   ]
  },
  {
   "cell_type": "markdown",
   "metadata": {},
   "source": [
    "## PART 2. Data Exploration & Cleansing"
   ]
  },
  {
   "cell_type": "markdown",
   "metadata": {},
   "source": [
    "### Import packages & data"
   ]
  },
  {
   "cell_type": "code",
   "execution_count": 127,
   "metadata": {},
   "outputs": [],
   "source": [
    "import pandas as pd\n",
    "import numpy as np\n",
    "import math\n",
    "import json\n",
    "import time\n",
    "import matplotlib.pyplot as plt\n",
    "import seaborn as sns\n",
    "from sklearn.ensemble import RandomForestClassifier\n",
    "from sklearn.metrics import classification_report\n",
    "from sklearn.metrics import accuracy_score\n",
    "from sklearn.metrics import confusion_matrix\n",
    "import itertools\n",
    "%matplotlib inline\n",
    "\n",
    "# read in the json files\n",
    "portfolio = pd.read_json('data/portfolio.json', orient='records', lines=True)\n",
    "profile = pd.read_json('data/profile.json', orient='records', lines=True)\n",
    "transcript = pd.read_json('data/transcript.json', orient='records', lines=True)"
   ]
  },
  {
   "cell_type": "markdown",
   "metadata": {},
   "source": [
    "### Basic Exploration"
   ]
  },
  {
   "cell_type": "markdown",
   "metadata": {},
   "source": [
    "#### profile"
   ]
  },
  {
   "cell_type": "code",
   "execution_count": 23,
   "metadata": {},
   "outputs": [
    {
     "name": "stdout",
     "output_type": "stream",
     "text": [
      "There are 17000 unique customers.\n"
     ]
    }
   ],
   "source": [
    "print('There are {} unique customers.'.format(profile.shape[0]))"
   ]
  },
  {
   "cell_type": "markdown",
   "metadata": {},
   "source": [
    "#### portfolio"
   ]
  },
  {
   "cell_type": "code",
   "execution_count": 24,
   "metadata": {
    "scrolled": true
   },
   "outputs": [
    {
     "name": "stdout",
     "output_type": "stream",
     "text": [
      "There are 10 different offers.\n",
      "There are 4 BOGO offers.\n",
      "There are 4 discount offers.\n",
      "There are 2 informational offers.\n"
     ]
    }
   ],
   "source": [
    "print('There are {} different offers.'.format(portfolio.shape[0]))\n",
    "print('There are {} BOGO offers.'.format(portfolio[portfolio['offer_type'] == 'bogo'].shape[0]))\n",
    "print('There are {} discount offers.'.format(portfolio[portfolio['offer_type'] == 'discount'].shape[0]))\n",
    "print('There are {} informational offers.'.format(portfolio[portfolio['offer_type'] == 'informational'].shape[0]))"
   ]
  },
  {
   "cell_type": "markdown",
   "metadata": {},
   "source": [
    "#### transcript"
   ]
  },
  {
   "cell_type": "code",
   "execution_count": 25,
   "metadata": {},
   "outputs": [
    {
     "name": "stdout",
     "output_type": "stream",
     "text": [
      "There are 76277 'offer received' records, 57725 'offer viewed' records and 33579 'offer completed' records.\n"
     ]
    }
   ],
   "source": [
    "print(\"There are {} 'offer received' records, {} 'offer viewed' records and {} 'offer completed' records.\".format(sum(transcript['event'] == 'offer received'),\n",
    "                                                                                                                 sum(transcript['event'] == 'offer viewed'),\n",
    "                                                                                                                 sum(transcript['event'] == 'offer completed')))\n",
    "\n",
    "\n"
   ]
  },
  {
   "cell_type": "markdown",
   "metadata": {},
   "source": [
    "### Data Quality Check"
   ]
  },
  {
   "cell_type": "code",
   "execution_count": 26,
   "metadata": {},
   "outputs": [
    {
     "name": "stdout",
     "output_type": "stream",
     "text": [
      "reward        0\n",
      "channels      0\n",
      "difficulty    0\n",
      "duration      0\n",
      "offer_type    0\n",
      "id            0\n",
      "dtype: int64\n",
      "person    0\n",
      "event     0\n",
      "value     0\n",
      "time      0\n",
      "dtype: int64\n",
      "gender              2175\n",
      "age                    0\n",
      "id                     0\n",
      "became_member_on       0\n",
      "income              2175\n",
      "dtype: int64\n"
     ]
    }
   ],
   "source": [
    "# missing value\n",
    "print(portfolio.isna().sum()) # all zeros\n",
    "print(transcript.isna().sum()) # all zeros\n",
    "print(profile.isna().sum())# 2,175 missing values in gender & income - 12.79%, probably 'NA' as a new category"
   ]
  },
  {
   "cell_type": "markdown",
   "metadata": {},
   "source": [
    "From what we can see here, there are no missing values in the 'portfolio' and 'transcript' data tables. However, 2,175 missing values present in the 'gender' and 'income' variables in the 'profile' data table. In other words, 12.79% percent of the records in the 'profile' table have missing values, so we cannot simply remove these rows. We will handle this problem later in the data wrangling section."
   ]
  },
  {
   "cell_type": "code",
   "execution_count": 27,
   "metadata": {},
   "outputs": [
    {
     "data": {
      "text/plain": [
       "2175"
      ]
     },
     "execution_count": 27,
     "metadata": {},
     "output_type": "execute_result"
    }
   ],
   "source": [
    "len(profile[(profile['income'].isna()) & (profile['gender'].isna())])"
   ]
  },
  {
   "cell_type": "markdown",
   "metadata": {},
   "source": [
    "The number of rows with missing values both in 'gender' and 'income' is exactly 2,175. That means all users who don't have gender recorded also don't have income value. This kind of missing is coincident and we must do something to record this later."
   ]
  },
  {
   "cell_type": "code",
   "execution_count": 125,
   "metadata": {},
   "outputs": [
    {
     "name": "stdout",
     "output_type": "stream",
     "text": [
      "portfolio: \n",
      " reward         int64\n",
      "channels      object\n",
      "difficulty     int64\n",
      "duration       int64\n",
      "offer_type    object\n",
      "id            object\n",
      "dtype: object \n",
      "\n",
      "transaction: \n",
      "\n",
      " person     object\n",
      "event      object\n",
      "value      object\n",
      "time      float64\n",
      "dtype: object \n",
      "\n",
      "profile: \n",
      "\n",
      " gender                      object\n",
      "age                         object\n",
      "id                          object\n",
      "became_member_on    datetime64[ns]\n",
      "income                      object\n",
      "dtype: object \n",
      "\n"
     ]
    }
   ],
   "source": [
    "# data types \n",
    "print('portfolio: \\n',portfolio.dtypes,'\\n')\n",
    "print('transaction: \\n\\n',transcript.dtypes,'\\n') # value is 'object' because it varies depending on 'event'\n",
    "print('profile: \\n\\n',profile.dtypes,'\\n') # 'became_member_on' need to be date type; "
   ]
  },
  {
   "cell_type": "markdown",
   "metadata": {},
   "source": [
    "There are two things notable here: first, 'value' variable in the 'transcript' table is of object type. That is because this variable varies depending on whether this record is about transaction or an offer. If it is a transaction record, then the value is a dictionary with 'amount' as the key. If it is an offer record, then that key is either 'offer id' or 'offer_id'."
   ]
  },
  {
   "cell_type": "code",
   "execution_count": 29,
   "metadata": {},
   "outputs": [
    {
     "data": {
      "text/plain": [
       "0         {'offer id': '9b98b8c7a33c4b65b9aebfe6a799e6d9'}\n",
       "1         {'offer id': '0b1e1539f2cc45b7b9fa7c272da2e1d7'}\n",
       "2         {'offer id': '2906b810c7d4411798c6938adc9daaa5'}\n",
       "3         {'offer id': 'fafdcd668e3743c1bb461111dcafc2a4'}\n",
       "4         {'offer id': '4d5c57ea9a6940dd891ad53e9dbe8da0'}\n",
       "                                ...                       \n",
       "306529                      {'amount': 1.5899999999999999}\n",
       "306530                                    {'amount': 9.53}\n",
       "306531                                    {'amount': 3.61}\n",
       "306532                      {'amount': 3.5300000000000002}\n",
       "306533                                    {'amount': 4.05}\n",
       "Name: value, Length: 306534, dtype: object"
      ]
     },
     "execution_count": 29,
     "metadata": {},
     "output_type": "execute_result"
    }
   ],
   "source": [
    "transcript['value']"
   ]
  },
  {
   "cell_type": "markdown",
   "metadata": {},
   "source": [
    "Second, 'became_member_on' in the 'profile' table is not of date type. We have to change that date type with correct format."
   ]
  },
  {
   "cell_type": "code",
   "execution_count": 30,
   "metadata": {},
   "outputs": [
    {
     "data": {
      "text/plain": [
       "0    20170212\n",
       "1    20170715\n",
       "2    20180712\n",
       "3    20170509\n",
       "4    20170804\n",
       "Name: became_member_on, dtype: int64"
      ]
     },
     "execution_count": 30,
     "metadata": {},
     "output_type": "execute_result"
    }
   ],
   "source": [
    "profile['became_member_on'].head()"
   ]
  },
  {
   "cell_type": "code",
   "execution_count": 128,
   "metadata": {},
   "outputs": [
    {
     "data": {
      "text/plain": [
       "Text(0.5, 1.0, 'Distribution of customer age')"
      ]
     },
     "execution_count": 128,
     "metadata": {},
     "output_type": "execute_result"
    },
    {
     "data": {
      "image/png": "[encoded data removed]",
      "text/plain": [
       "<Figure size 432x288 with 1 Axes>"
      ]
     },
     "metadata": {
      "needs_background": "light"
     },
     "output_type": "display_data"
    }
   ],
   "source": [
    "# outlier\n",
    "sns.distplot(profile['age']).set_title('Distribution of customer age')"
   ]
  },
  {
   "cell_type": "markdown",
   "metadata": {},
   "source": [
    "There are a few users with age of 118. If we dig further, these users are exactly those users without 'gender' and 'income' values. We have to encode these very high ages as 'missing' later."
   ]
  },
  {
   "cell_type": "code",
   "execution_count": 129,
   "metadata": {},
   "outputs": [
    {
     "data": {
      "text/plain": [
       "Text(0.5, 1.0, 'Count of different customer gender')"
      ]
     },
     "execution_count": 129,
     "metadata": {},
     "output_type": "execute_result"
    },
    {
     "data": {
      "image/png": "[encoded data removed]",
      "text/plain": [
       "<Figure size 432x288 with 1 Axes>"
      ]
     },
     "metadata": {
      "needs_background": "light"
     },
     "output_type": "display_data"
    }
   ],
   "source": [
    "sns.countplot(profile['gender']).set_title('Count of different customer gender')"
   ]
  },
  {
   "cell_type": "code",
   "execution_count": 33,
   "metadata": {},
   "outputs": [
    {
     "data": {
      "text/plain": [
       "0.012470588235294117"
      ]
     },
     "execution_count": 33,
     "metadata": {},
     "output_type": "execute_result"
    }
   ],
   "source": [
    "profile[profile['gender'] == 'O'].shape[0]/profile.shape[0]"
   ]
  },
  {
   "cell_type": "markdown",
   "metadata": {},
   "source": [
    "A few users have gender of 'O'. We are not sure whether they belong to the transgender group or it also means 'missing'. Luckily, we only have 1% users with gender of 'O', so we might as well keep it as its own category."
   ]
  },
  {
   "cell_type": "markdown",
   "metadata": {},
   "source": [
    "### Data Cleansing"
   ]
  },
  {
   "cell_type": "markdown",
   "metadata": {},
   "source": [
    "We observed a few problems within our data sets in the previous section. Let's deal with them here."
   ]
  },
  {
   "cell_type": "code",
   "execution_count": 34,
   "metadata": {},
   "outputs": [],
   "source": [
    "# replace gender - None & age - 118 & income - NaN with 'Missing'\n",
    "profile['gender']= profile['gender'].fillna('missing')\n",
    "profile['age']= profile['age'].apply(lambda x:'missing' if x==118 else x)\n",
    "profile['income'] = profile['income'].fillna('missing')"
   ]
  },
  {
   "cell_type": "code",
   "execution_count": 35,
   "metadata": {},
   "outputs": [],
   "source": [
    "# convert 'became_member_on' to the right type and format\n",
    "profile['became_member_on'] = pd.to_datetime(profile['became_member_on'],format='%Y%m%d')"
   ]
  },
  {
   "cell_type": "code",
   "execution_count": 36,
   "metadata": {},
   "outputs": [],
   "source": [
    "# convert transcript time from hours to days\n",
    "transcript['time'] = transcript['time']/24"
   ]
  },
  {
   "cell_type": "code",
   "execution_count": 37,
   "metadata": {},
   "outputs": [
    {
     "data": {
      "text/html": [
       "<div>\n",
       "<style scoped>\n",
       "    .dataframe tbody tr th:only-of-type {\n",
       "        vertical-align: middle;\n",
       "    }\n",
       "\n",
       "    .dataframe tbody tr th {\n",
       "        vertical-align: top;\n",
       "    }\n",
       "\n",
       "    .dataframe thead th {\n",
       "        text-align: right;\n",
       "    }\n",
       "</style>\n",
       "<table border=\"1\" class=\"dataframe\">\n",
       "  <thead>\n",
       "    <tr style=\"text-align: right;\">\n",
       "      <th></th>\n",
       "      <th>gender</th>\n",
       "      <th>age</th>\n",
       "      <th>id</th>\n",
       "      <th>became_member_on</th>\n",
       "      <th>income</th>\n",
       "    </tr>\n",
       "  </thead>\n",
       "  <tbody>\n",
       "    <tr>\n",
       "      <th>0</th>\n",
       "      <td>missing</td>\n",
       "      <td>missing</td>\n",
       "      <td>68be06ca386d4c31939f3a4f0e3dd783</td>\n",
       "      <td>2017-02-12</td>\n",
       "      <td>missing</td>\n",
       "    </tr>\n",
       "    <tr>\n",
       "      <th>1</th>\n",
       "      <td>F</td>\n",
       "      <td>55</td>\n",
       "      <td>0610b486422d4921ae7d2bf64640c50b</td>\n",
       "      <td>2017-07-15</td>\n",
       "      <td>112000</td>\n",
       "    </tr>\n",
       "    <tr>\n",
       "      <th>2</th>\n",
       "      <td>missing</td>\n",
       "      <td>missing</td>\n",
       "      <td>38fe809add3b4fcf9315a9694bb96ff5</td>\n",
       "      <td>2018-07-12</td>\n",
       "      <td>missing</td>\n",
       "    </tr>\n",
       "    <tr>\n",
       "      <th>3</th>\n",
       "      <td>F</td>\n",
       "      <td>75</td>\n",
       "      <td>78afa995795e4d85b5d9ceeca43f5fef</td>\n",
       "      <td>2017-05-09</td>\n",
       "      <td>100000</td>\n",
       "    </tr>\n",
       "    <tr>\n",
       "      <th>4</th>\n",
       "      <td>missing</td>\n",
       "      <td>missing</td>\n",
       "      <td>a03223e636434f42ac4c3df47e8bac43</td>\n",
       "      <td>2017-08-04</td>\n",
       "      <td>missing</td>\n",
       "    </tr>\n",
       "  </tbody>\n",
       "</table>\n",
       "</div>"
      ],
      "text/plain": [
       "    gender      age                                id became_member_on  \\\n",
       "0  missing  missing  68be06ca386d4c31939f3a4f0e3dd783       2017-02-12   \n",
       "1        F       55  0610b486422d4921ae7d2bf64640c50b       2017-07-15   \n",
       "2  missing  missing  38fe809add3b4fcf9315a9694bb96ff5       2018-07-12   \n",
       "3        F       75  78afa995795e4d85b5d9ceeca43f5fef       2017-05-09   \n",
       "4  missing  missing  a03223e636434f42ac4c3df47e8bac43       2017-08-04   \n",
       "\n",
       "    income  \n",
       "0  missing  \n",
       "1   112000  \n",
       "2  missing  \n",
       "3   100000  \n",
       "4  missing  "
      ]
     },
     "execution_count": 37,
     "metadata": {},
     "output_type": "execute_result"
    }
   ],
   "source": [
    "# let's take a look at our data after cleaning\n",
    "profile.head()"
   ]
  },
  {
   "cell_type": "code",
   "execution_count": 38,
   "metadata": {},
   "outputs": [
    {
     "data": {
      "text/html": [
       "<div>\n",
       "<style scoped>\n",
       "    .dataframe tbody tr th:only-of-type {\n",
       "        vertical-align: middle;\n",
       "    }\n",
       "\n",
       "    .dataframe tbody tr th {\n",
       "        vertical-align: top;\n",
       "    }\n",
       "\n",
       "    .dataframe thead th {\n",
       "        text-align: right;\n",
       "    }\n",
       "</style>\n",
       "<table border=\"1\" class=\"dataframe\">\n",
       "  <thead>\n",
       "    <tr style=\"text-align: right;\">\n",
       "      <th></th>\n",
       "      <th>person</th>\n",
       "      <th>event</th>\n",
       "      <th>value</th>\n",
       "      <th>time</th>\n",
       "    </tr>\n",
       "  </thead>\n",
       "  <tbody>\n",
       "    <tr>\n",
       "      <th>0</th>\n",
       "      <td>78afa995795e4d85b5d9ceeca43f5fef</td>\n",
       "      <td>offer received</td>\n",
       "      <td>{'offer id': '9b98b8c7a33c4b65b9aebfe6a799e6d9'}</td>\n",
       "      <td>0.0</td>\n",
       "    </tr>\n",
       "    <tr>\n",
       "      <th>1</th>\n",
       "      <td>a03223e636434f42ac4c3df47e8bac43</td>\n",
       "      <td>offer received</td>\n",
       "      <td>{'offer id': '0b1e1539f2cc45b7b9fa7c272da2e1d7'}</td>\n",
       "      <td>0.0</td>\n",
       "    </tr>\n",
       "    <tr>\n",
       "      <th>2</th>\n",
       "      <td>e2127556f4f64592b11af22de27a7932</td>\n",
       "      <td>offer received</td>\n",
       "      <td>{'offer id': '2906b810c7d4411798c6938adc9daaa5'}</td>\n",
       "      <td>0.0</td>\n",
       "    </tr>\n",
       "    <tr>\n",
       "      <th>3</th>\n",
       "      <td>8ec6ce2a7e7949b1bf142def7d0e0586</td>\n",
       "      <td>offer received</td>\n",
       "      <td>{'offer id': 'fafdcd668e3743c1bb461111dcafc2a4'}</td>\n",
       "      <td>0.0</td>\n",
       "    </tr>\n",
       "    <tr>\n",
       "      <th>4</th>\n",
       "      <td>68617ca6246f4fbc85e91a2a49552598</td>\n",
       "      <td>offer received</td>\n",
       "      <td>{'offer id': '4d5c57ea9a6940dd891ad53e9dbe8da0'}</td>\n",
       "      <td>0.0</td>\n",
       "    </tr>\n",
       "  </tbody>\n",
       "</table>\n",
       "</div>"
      ],
      "text/plain": [
       "                             person           event  \\\n",
       "0  78afa995795e4d85b5d9ceeca43f5fef  offer received   \n",
       "1  a03223e636434f42ac4c3df47e8bac43  offer received   \n",
       "2  e2127556f4f64592b11af22de27a7932  offer received   \n",
       "3  8ec6ce2a7e7949b1bf142def7d0e0586  offer received   \n",
       "4  68617ca6246f4fbc85e91a2a49552598  offer received   \n",
       "\n",
       "                                              value  time  \n",
       "0  {'offer id': '9b98b8c7a33c4b65b9aebfe6a799e6d9'}   0.0  \n",
       "1  {'offer id': '0b1e1539f2cc45b7b9fa7c272da2e1d7'}   0.0  \n",
       "2  {'offer id': '2906b810c7d4411798c6938adc9daaa5'}   0.0  \n",
       "3  {'offer id': 'fafdcd668e3743c1bb461111dcafc2a4'}   0.0  \n",
       "4  {'offer id': '4d5c57ea9a6940dd891ad53e9dbe8da0'}   0.0  "
      ]
     },
     "execution_count": 38,
     "metadata": {},
     "output_type": "execute_result"
    }
   ],
   "source": [
    "transcript.head()"
   ]
  },
  {
   "cell_type": "code",
   "execution_count": 39,
   "metadata": {},
   "outputs": [
    {
     "data": {
      "text/html": [
       "<div>\n",
       "<style scoped>\n",
       "    .dataframe tbody tr th:only-of-type {\n",
       "        vertical-align: middle;\n",
       "    }\n",
       "\n",
       "    .dataframe tbody tr th {\n",
       "        vertical-align: top;\n",
       "    }\n",
       "\n",
       "    .dataframe thead th {\n",
       "        text-align: right;\n",
       "    }\n",
       "</style>\n",
       "<table border=\"1\" class=\"dataframe\">\n",
       "  <thead>\n",
       "    <tr style=\"text-align: right;\">\n",
       "      <th></th>\n",
       "      <th>reward</th>\n",
       "      <th>channels</th>\n",
       "      <th>difficulty</th>\n",
       "      <th>duration</th>\n",
       "      <th>offer_type</th>\n",
       "      <th>id</th>\n",
       "    </tr>\n",
       "  </thead>\n",
       "  <tbody>\n",
       "    <tr>\n",
       "      <th>0</th>\n",
       "      <td>10</td>\n",
       "      <td>[email, mobile, social]</td>\n",
       "      <td>10</td>\n",
       "      <td>7</td>\n",
       "      <td>bogo</td>\n",
       "      <td>ae264e3637204a6fb9bb56bc8210ddfd</td>\n",
       "    </tr>\n",
       "    <tr>\n",
       "      <th>1</th>\n",
       "      <td>10</td>\n",
       "      <td>[web, email, mobile, social]</td>\n",
       "      <td>10</td>\n",
       "      <td>5</td>\n",
       "      <td>bogo</td>\n",
       "      <td>4d5c57ea9a6940dd891ad53e9dbe8da0</td>\n",
       "    </tr>\n",
       "    <tr>\n",
       "      <th>2</th>\n",
       "      <td>0</td>\n",
       "      <td>[web, email, mobile]</td>\n",
       "      <td>0</td>\n",
       "      <td>4</td>\n",
       "      <td>informational</td>\n",
       "      <td>3f207df678b143eea3cee63160fa8bed</td>\n",
       "    </tr>\n",
       "    <tr>\n",
       "      <th>3</th>\n",
       "      <td>5</td>\n",
       "      <td>[web, email, mobile]</td>\n",
       "      <td>5</td>\n",
       "      <td>7</td>\n",
       "      <td>bogo</td>\n",
       "      <td>9b98b8c7a33c4b65b9aebfe6a799e6d9</td>\n",
       "    </tr>\n",
       "    <tr>\n",
       "      <th>4</th>\n",
       "      <td>5</td>\n",
       "      <td>[web, email]</td>\n",
       "      <td>20</td>\n",
       "      <td>10</td>\n",
       "      <td>discount</td>\n",
       "      <td>0b1e1539f2cc45b7b9fa7c272da2e1d7</td>\n",
       "    </tr>\n",
       "  </tbody>\n",
       "</table>\n",
       "</div>"
      ],
      "text/plain": [
       "   reward                      channels  difficulty  duration     offer_type  \\\n",
       "0      10       [email, mobile, social]          10         7           bogo   \n",
       "1      10  [web, email, mobile, social]          10         5           bogo   \n",
       "2       0          [web, email, mobile]           0         4  informational   \n",
       "3       5          [web, email, mobile]           5         7           bogo   \n",
       "4       5                  [web, email]          20        10       discount   \n",
       "\n",
       "                                 id  \n",
       "0  ae264e3637204a6fb9bb56bc8210ddfd  \n",
       "1  4d5c57ea9a6940dd891ad53e9dbe8da0  \n",
       "2  3f207df678b143eea3cee63160fa8bed  \n",
       "3  9b98b8c7a33c4b65b9aebfe6a799e6d9  \n",
       "4  0b1e1539f2cc45b7b9fa7c272da2e1d7  "
      ]
     },
     "execution_count": 39,
     "metadata": {},
     "output_type": "execute_result"
    }
   ],
   "source": [
    "portfolio.head()"
   ]
  },
  {
   "cell_type": "markdown",
   "metadata": {},
   "source": [
    "## PART 3. Data Analysis"
   ]
  },
  {
   "cell_type": "markdown",
   "metadata": {},
   "source": [
    "### Data Wrangling"
   ]
  },
  {
   "cell_type": "markdown",
   "metadata": {},
   "source": [
    "In the previous part, we have corrected the potential errors in our data sets. Starting from this point, we will dive into the analysis. Before we build any machine learning model, we first need to think about how to play with our data to make it look nicer. To be specific, we probably want to join the information from the three tables into one. For that one table, we want every row to be a record saying 'some user receives some offer and ends up completing/not completing this offer'. "
   ]
  },
  {
   "cell_type": "code",
   "execution_count": 55,
   "metadata": {},
   "outputs": [],
   "source": [
    "users = profile['id'] # all user_ids\n",
    "subset_users = profile['id']# subset all users\n",
    "subset_transcript = transcript[transcript['person'].isin(subset_users)] # subset records related to subset users"
   ]
  },
  {
   "cell_type": "markdown",
   "metadata": {},
   "source": [
    "To better illustrate the functions build below, I sample only 100 users to reduce execution time of these functions greatly and we can quickly see how our functions perform."
   ]
  },
  {
   "cell_type": "code",
   "execution_count": 41,
   "metadata": {},
   "outputs": [],
   "source": [
    "def create_users_offer_dict(users, transcript):\n",
    "    '''\n",
    "    INPUT:\n",
    "    user: a list of user_ids\n",
    "    transcript: all or part of the transcript data provided\n",
    "    \n",
    "    OUTPUT:\n",
    "    A dictionary: Each key is an user_id, each value is a list of (offer_id, receive_time)\n",
    "    '''\n",
    "    \n",
    "    start_time = time.time()\n",
    "    func1_cnt = 0 # initialize a counter\n",
    "    users_offer = {} # initialize an empty dict\n",
    "    ''' Loop through all the users'''\n",
    "    for user in users: \n",
    "        func1_cnt += 1\n",
    "        if func1_cnt % 1000 == 0: # checkpoint for every 1,000 iterations\n",
    "            print('Creating user-offer dictonary: Processed {} users.'.format(func1_cnt))\n",
    "        users_offer[user] = []\n",
    "        '''For each offer, record its offer_id and receive_time'''\n",
    "        for index,row in transcript[(transcript['person'] == user) &(transcript['event'] == 'offer received')].iterrows():\n",
    "            try: #if try runs successfully, it is an offer record\n",
    "                offer_id = row['value']['offer id']\n",
    "                receive_time = row['time']\n",
    "                users_offer[user].append((offer_id,receive_time)) # tuple - (offer_id, receive_time)\n",
    "            except: # if try gives an error, that means it meets a transaction record, so continue\n",
    "                continue\n",
    "    end_time = time.time()\n",
    "    print('create_users_offer function runs for:{} seconds'.format(end_time-start_time)) # print out the execution time\n",
    "    return users_offer"
   ]
  },
  {
   "cell_type": "code",
   "execution_count": 42,
   "metadata": {},
   "outputs": [],
   "source": [
    "#create_users_offer_dict(subset_users, subset_transcript)"
   ]
  },
  {
   "cell_type": "code",
   "execution_count": 43,
   "metadata": {},
   "outputs": [],
   "source": [
    "def create_clean_transcript(transcript):\n",
    "    '''\n",
    "    INPUT:\n",
    "    transcript: all or part of the transcript data provided\n",
    "    \n",
    "    OUTPUT:\n",
    "    offer_transcript: part of the transcript data that is related to offers\n",
    "    transaction: part of the transcript data that is related to transaction\n",
    "    '''\n",
    "    start_time = time.time()\n",
    "    '''offer_transcript'''\n",
    "    offer_transcript = transcript[transcript['event'] != 'transaction'] # remove transaction data\n",
    "    offer_transcript['value'] = offer_transcript['value'].apply(lambda x:list(x.values())[0]) #extract value from a dict\n",
    "    offer_transcript.rename(columns={'value':'offer_id'},inplace=True) # rename the created column\n",
    "    '''transaction'''\n",
    "    transaction = transcript[transcript['event'] == 'transaction'] # keep transaction data\n",
    "    transaction['value'] = transaction['value'].apply(lambda x:list(x.values())[0]) # extract value from a dict\n",
    "    transaction.rename(columns={'value':'amount'},inplace=True) # rename the created column\n",
    "    end_time = time.time()\n",
    "    print('create_clean_transcript function runs for:{} seconds'.format(end_time-start_time)) # print out the execution time\n",
    "    return offer_transcript, transaction\n"
   ]
  },
  {
   "cell_type": "code",
   "execution_count": 44,
   "metadata": {},
   "outputs": [],
   "source": [
    "#offer_transcript, transaction = create_clean_transcript(subset_transcript)\n",
    "#offer_transcript"
   ]
  },
  {
   "cell_type": "code",
   "execution_count": 45,
   "metadata": {},
   "outputs": [],
   "source": [
    "def count_user_offer(users, transcript):\n",
    "    '''\n",
    "    INPUT:\n",
    "    users: a list of user_ids\n",
    "    transcript: all or part of the transcript data provided\n",
    "    offer_transcript\n",
    "    \n",
    "    OUTPUT:\n",
    "    new_offer_transcript: Same to the original offer_transcript except one new column - 'count'\n",
    "    This column is the id of an offer received by this person.\n",
    "    (user_id, count) is the unique identifier of this table\n",
    "    '''\n",
    "    start_time = time.time()\n",
    "    func2_cnt = 0 #initialize a counter\n",
    "    offer_transcript, transaction = create_clean_transcript(transcript) # split the transcript data \n",
    "    new_offer_transcript = pd.DataFrame() #initialize a new dataframe\n",
    "    users_offers = create_users_offer_dict(users, transcript) # create the user_id:(offer_id, receive_time) dict\n",
    "    '''Loop through every user'''\n",
    "    for user in users_offers.keys(): \n",
    "        func2_cnt += 1\n",
    "        if func2_cnt % 1000 == 0: # checkpoint for every 1000 iterations\n",
    "            print('Labeling offers received by each user: Processed {} users.'.format(func2_cnt))\n",
    "        user_transcript = offer_transcript[offer_transcript['person'] ==user].reset_index(drop=True) # transcript data of this user\n",
    "        for index, row in user_transcript.iterrows():\n",
    "            if row['event'] == 'offer received': #if this is a newly received offer, add one to count\n",
    "                user_transcript.loc[index,'count'] = users_offers[row['person']].index((row['offer_id'],row['time'])) + 1\n",
    "            else: #if not, count is the max value out of previous counts\n",
    "                user_transcript.loc[index,'count'] = max(user_transcript[user_transcript['offer_id'] == row['offer_id']]['count'])\n",
    "        new_offer_transcript = pd.concat([new_offer_transcript, user_transcript],axis=0) # continuously add in a user's transcript data \n",
    "    end_time = time.time()\n",
    "    print('count_user_offer function runs for:{} seconds'.format(end_time-start_time)) # print the execution time\n",
    "    return new_offer_transcript"
   ]
  },
  {
   "cell_type": "code",
   "execution_count": 46,
   "metadata": {},
   "outputs": [],
   "source": [
    "#count_user_offer(subset_users, subset_transcript)"
   ]
  },
  {
   "cell_type": "code",
   "execution_count": 51,
   "metadata": {},
   "outputs": [],
   "source": [
    "def create_user_offer_df(users,profile,transcript,portfolio):\n",
    "    '''\n",
    "    INPUT:\n",
    "    users: a list of user_ids\n",
    "    transcript: all or part of the transcript data provided\n",
    "    portfolio: offer portfolio data provided\n",
    "    profile: customer profile data provided\n",
    "    \n",
    "    OUTPUT:\n",
    "    final_df: a dataframe ready to be put into a machine learning model\n",
    "    For this dataframe, each row is a record of some customer receiving some offer and ending up completing it or not.\n",
    "    Apart from that, customer profile data and portfolio data are also joined.\n",
    "    \n",
    "    offer_transcript: part of the transcript data that is related to offers\n",
    "    transaction: part of the transcript data that is related to transaction\n",
    "    '''\n",
    "    start_time = time.time()\n",
    "    offer_transcript, transaction = create_clean_transcript(transcript)\n",
    "    new_offer_transcript = count_user_offer(users, transcript) # create a transcript dataframe with 'count' column\n",
    "    final_df = pd.pivot_table(new_offer_transcript, values='time', index=['person', 'offer_id','count'],\n",
    "                        columns=['event'], aggfunc=np.mean, fill_value=np.nan) #pivot the dataframe\n",
    "    final_df = final_df.reset_index() #reset the index\n",
    "    final_df.rename(columns={'offer completed':'offer_completed_time',\n",
    "                      'offer received':'offer_received_time',\n",
    "                     'offer viewed':'offer_viewed_time'},inplace=True) #rename the columns\n",
    "    # join in portfolio information\n",
    "    final_df = final_df.merge(portfolio, left_on='offer_id',right_on='id').drop(columns = ['id'])\n",
    "    # join in profile information\n",
    "    final_df = final_df.merge(profile, left_on = 'person',right_on = 'id').drop(columns=['id'])\n",
    " \n",
    "    end_time = time.time()\n",
    "    print('create_user_offer_df(final) function runs for:{} seconds'.format(end_time-start_time)) # print out the execution time\n",
    "    \n",
    "    return final_df, offer_transcript, transaction"
   ]
  },
  {
   "cell_type": "code",
   "execution_count": 56,
   "metadata": {
    "scrolled": true
   },
   "outputs": [
    {
     "name": "stderr",
     "output_type": "stream",
     "text": [
      "C:\\Users\\zuobe\\AppData\\Local\\Continuum\\anaconda3\\lib\\site-packages\\ipykernel_launcher.py:13: SettingWithCopyWarning: \n",
      "A value is trying to be set on a copy of a slice from a DataFrame.\n",
      "Try using .loc[row_indexer,col_indexer] = value instead\n",
      "\n",
      "See the caveats in the documentation: https://pandas.pydata.org/pandas-docs/stable/user_guide/indexing.html#returning-a-view-versus-a-copy\n",
      "  del sys.path[0]\n",
      "C:\\Users\\zuobe\\AppData\\Local\\Continuum\\anaconda3\\lib\\site-packages\\ipykernel_launcher.py:17: SettingWithCopyWarning: \n",
      "A value is trying to be set on a copy of a slice from a DataFrame.\n",
      "Try using .loc[row_indexer,col_indexer] = value instead\n",
      "\n",
      "See the caveats in the documentation: https://pandas.pydata.org/pandas-docs/stable/user_guide/indexing.html#returning-a-view-versus-a-copy\n"
     ]
    },
    {
     "name": "stdout",
     "output_type": "stream",
     "text": [
      "create_clean_transcript function runs for:0.300229549407959 seconds\n",
      "create_clean_transcript function runs for:0.32774996757507324 seconds\n",
      "Creating user-offer dictonary: Processed 1000 users.\n",
      "Creating user-offer dictonary: Processed 2000 users.\n",
      "Creating user-offer dictonary: Processed 3000 users.\n",
      "Creating user-offer dictonary: Processed 4000 users.\n",
      "Creating user-offer dictonary: Processed 5000 users.\n",
      "Creating user-offer dictonary: Processed 6000 users.\n",
      "Creating user-offer dictonary: Processed 7000 users.\n",
      "Creating user-offer dictonary: Processed 8000 users.\n",
      "Creating user-offer dictonary: Processed 9000 users.\n",
      "Creating user-offer dictonary: Processed 10000 users.\n",
      "Creating user-offer dictonary: Processed 11000 users.\n",
      "Creating user-offer dictonary: Processed 12000 users.\n",
      "Creating user-offer dictonary: Processed 13000 users.\n",
      "Creating user-offer dictonary: Processed 14000 users.\n",
      "Creating user-offer dictonary: Processed 15000 users.\n",
      "Creating user-offer dictonary: Processed 16000 users.\n",
      "Creating user-offer dictonary: Processed 17000 users.\n",
      "create_users_offer function runs for:749.1951925754547 seconds\n",
      "Labeling offers received by each user: Processed 1000 users.\n",
      "Labeling offers received by each user: Processed 2000 users.\n",
      "Labeling offers received by each user: Processed 3000 users.\n",
      "Labeling offers received by each user: Processed 4000 users.\n",
      "Labeling offers received by each user: Processed 5000 users.\n",
      "Labeling offers received by each user: Processed 6000 users.\n",
      "Labeling offers received by each user: Processed 7000 users.\n",
      "Labeling offers received by each user: Processed 8000 users.\n",
      "Labeling offers received by each user: Processed 9000 users.\n",
      "Labeling offers received by each user: Processed 10000 users.\n",
      "Labeling offers received by each user: Processed 11000 users.\n",
      "Labeling offers received by each user: Processed 12000 users.\n",
      "Labeling offers received by each user: Processed 13000 users.\n",
      "Labeling offers received by each user: Processed 14000 users.\n",
      "Labeling offers received by each user: Processed 15000 users.\n",
      "Labeling offers received by each user: Processed 16000 users.\n",
      "Labeling offers received by each user: Processed 17000 users.\n",
      "count_user_offer function runs for:1244.9257278442383 seconds\n",
      "create_user_offer_df(final) function runs for:1245.5941052436829 seconds\n"
     ]
    }
   ],
   "source": [
    "processed_final_df, offer_transcript, transaction  = create_user_offer_df(subset_users,profile,subset_transcript,portfolio)"
   ]
  },
  {
   "cell_type": "code",
   "execution_count": 58,
   "metadata": {},
   "outputs": [
    {
     "data": {
      "text/html": [
       "<div>\n",
       "<style scoped>\n",
       "    .dataframe tbody tr th:only-of-type {\n",
       "        vertical-align: middle;\n",
       "    }\n",
       "\n",
       "    .dataframe tbody tr th {\n",
       "        vertical-align: top;\n",
       "    }\n",
       "\n",
       "    .dataframe thead th {\n",
       "        text-align: right;\n",
       "    }\n",
       "</style>\n",
       "<table border=\"1\" class=\"dataframe\">\n",
       "  <thead>\n",
       "    <tr style=\"text-align: right;\">\n",
       "      <th></th>\n",
       "      <th>person</th>\n",
       "      <th>offer_id</th>\n",
       "      <th>count</th>\n",
       "      <th>offer_completed_time</th>\n",
       "      <th>offer_received_time</th>\n",
       "      <th>offer_viewed_time</th>\n",
       "      <th>reward</th>\n",
       "      <th>channels</th>\n",
       "      <th>difficulty</th>\n",
       "      <th>duration</th>\n",
       "      <th>offer_type</th>\n",
       "      <th>gender</th>\n",
       "      <th>age</th>\n",
       "      <th>became_member_on</th>\n",
       "      <th>income</th>\n",
       "    </tr>\n",
       "  </thead>\n",
       "  <tbody>\n",
       "    <tr>\n",
       "      <th>0</th>\n",
       "      <td>0009655768c64bdeb2e877511632db8f</td>\n",
       "      <td>2906b810c7d4411798c6938adc9daaa5</td>\n",
       "      <td>5.0</td>\n",
       "      <td>24.00</td>\n",
       "      <td>24</td>\n",
       "      <td>NaN</td>\n",
       "      <td>2</td>\n",
       "      <td>[web, email, mobile]</td>\n",
       "      <td>10</td>\n",
       "      <td>7</td>\n",
       "      <td>discount</td>\n",
       "      <td>M</td>\n",
       "      <td>33</td>\n",
       "      <td>2017-04-21</td>\n",
       "      <td>72000</td>\n",
       "    </tr>\n",
       "    <tr>\n",
       "      <th>1</th>\n",
       "      <td>0009655768c64bdeb2e877511632db8f</td>\n",
       "      <td>3f207df678b143eea3cee63160fa8bed</td>\n",
       "      <td>2.0</td>\n",
       "      <td>NaN</td>\n",
       "      <td>14</td>\n",
       "      <td>15.5</td>\n",
       "      <td>0</td>\n",
       "      <td>[web, email, mobile]</td>\n",
       "      <td>0</td>\n",
       "      <td>4</td>\n",
       "      <td>informational</td>\n",
       "      <td>M</td>\n",
       "      <td>33</td>\n",
       "      <td>2017-04-21</td>\n",
       "      <td>72000</td>\n",
       "    </tr>\n",
       "    <tr>\n",
       "      <th>2</th>\n",
       "      <td>0009655768c64bdeb2e877511632db8f</td>\n",
       "      <td>5a8bc65990b245e5a138643cd4eb9837</td>\n",
       "      <td>1.0</td>\n",
       "      <td>NaN</td>\n",
       "      <td>7</td>\n",
       "      <td>8.0</td>\n",
       "      <td>0</td>\n",
       "      <td>[email, mobile, social]</td>\n",
       "      <td>0</td>\n",
       "      <td>3</td>\n",
       "      <td>informational</td>\n",
       "      <td>M</td>\n",
       "      <td>33</td>\n",
       "      <td>2017-04-21</td>\n",
       "      <td>72000</td>\n",
       "    </tr>\n",
       "    <tr>\n",
       "      <th>3</th>\n",
       "      <td>0009655768c64bdeb2e877511632db8f</td>\n",
       "      <td>f19421c1d4aa40978ebb69ca19b0e20d</td>\n",
       "      <td>3.0</td>\n",
       "      <td>17.25</td>\n",
       "      <td>17</td>\n",
       "      <td>19.0</td>\n",
       "      <td>5</td>\n",
       "      <td>[web, email, mobile, social]</td>\n",
       "      <td>5</td>\n",
       "      <td>5</td>\n",
       "      <td>bogo</td>\n",
       "      <td>M</td>\n",
       "      <td>33</td>\n",
       "      <td>2017-04-21</td>\n",
       "      <td>72000</td>\n",
       "    </tr>\n",
       "    <tr>\n",
       "      <th>4</th>\n",
       "      <td>0009655768c64bdeb2e877511632db8f</td>\n",
       "      <td>fafdcd668e3743c1bb461111dcafc2a4</td>\n",
       "      <td>4.0</td>\n",
       "      <td>22.00</td>\n",
       "      <td>21</td>\n",
       "      <td>22.5</td>\n",
       "      <td>2</td>\n",
       "      <td>[web, email, mobile, social]</td>\n",
       "      <td>10</td>\n",
       "      <td>10</td>\n",
       "      <td>discount</td>\n",
       "      <td>M</td>\n",
       "      <td>33</td>\n",
       "      <td>2017-04-21</td>\n",
       "      <td>72000</td>\n",
       "    </tr>\n",
       "  </tbody>\n",
       "</table>\n",
       "</div>"
      ],
      "text/plain": [
       "                             person                          offer_id  count  \\\n",
       "0  0009655768c64bdeb2e877511632db8f  2906b810c7d4411798c6938adc9daaa5    5.0   \n",
       "1  0009655768c64bdeb2e877511632db8f  3f207df678b143eea3cee63160fa8bed    2.0   \n",
       "2  0009655768c64bdeb2e877511632db8f  5a8bc65990b245e5a138643cd4eb9837    1.0   \n",
       "3  0009655768c64bdeb2e877511632db8f  f19421c1d4aa40978ebb69ca19b0e20d    3.0   \n",
       "4  0009655768c64bdeb2e877511632db8f  fafdcd668e3743c1bb461111dcafc2a4    4.0   \n",
       "\n",
       "   offer_completed_time  offer_received_time  offer_viewed_time  reward  \\\n",
       "0                 24.00                   24                NaN       2   \n",
       "1                   NaN                   14               15.5       0   \n",
       "2                   NaN                    7                8.0       0   \n",
       "3                 17.25                   17               19.0       5   \n",
       "4                 22.00                   21               22.5       2   \n",
       "\n",
       "                       channels  difficulty  duration     offer_type gender  \\\n",
       "0          [web, email, mobile]          10         7       discount      M   \n",
       "1          [web, email, mobile]           0         4  informational      M   \n",
       "2       [email, mobile, social]           0         3  informational      M   \n",
       "3  [web, email, mobile, social]           5         5           bogo      M   \n",
       "4  [web, email, mobile, social]          10        10       discount      M   \n",
       "\n",
       "  age became_member_on income  \n",
       "0  33       2017-04-21  72000  \n",
       "1  33       2017-04-21  72000  \n",
       "2  33       2017-04-21  72000  \n",
       "3  33       2017-04-21  72000  \n",
       "4  33       2017-04-21  72000  "
      ]
     },
     "execution_count": 58,
     "metadata": {},
     "output_type": "execute_result"
    }
   ],
   "source": [
    "processed_final_df.head()"
   ]
  },
  {
   "cell_type": "markdown",
   "metadata": {},
   "source": [
    "Before we start feature engineering, we have some last wrangling to do with the data we have."
   ]
  },
  {
   "cell_type": "code",
   "execution_count": 59,
   "metadata": {},
   "outputs": [
    {
     "name": "stderr",
     "output_type": "stream",
     "text": [
      "C:\\Users\\zuobe\\AppData\\Local\\Continuum\\anaconda3\\lib\\site-packages\\ipykernel_launcher.py:5: SettingWithCopyWarning: \n",
      "A value is trying to be set on a copy of a slice from a DataFrame.\n",
      "Try using .loc[row_indexer,col_indexer] = value instead\n",
      "\n",
      "See the caveats in the documentation: https://pandas.pydata.org/pandas-docs/stable/user_guide/indexing.html#returning-a-view-versus-a-copy\n",
      "  \"\"\"\n"
     ]
    }
   ],
   "source": [
    "all_data = processed_final_df\n",
    "all_data['complete_or_not']= -all_data['offer_completed_time'].isna() # create target column\n",
    "all_data['view_or_not'] = -all_data['offer_viewed_time'].isna() \n",
    "all_data = all_data[all_data['offer_type'] != 'informational']# informational offer won't be completed, so we don't need them\n",
    "all_data['receive_count'] = all_data['count'] - 1 # the number of offers reveiced before\n",
    "all_data = all_data.sort_values('offer_received_time') # sort df by 'time' in ascending order\n",
    "all_data.reset_index(drop=True, inplace=True)\n",
    "X = all_data.drop(columns = ['complete_or_not']) # split into X and y\n",
    "y = all_data['complete_or_not']"
   ]
  },
  {
   "cell_type": "code",
   "execution_count": 60,
   "metadata": {},
   "outputs": [],
   "source": [
    "# train test split\n",
    "num_row = all_data.shape[0]\n",
    "train_index = round((num_row - 1)*0.7)\n",
    "X_train = X.iloc[0:train_index,:]\n",
    "y_train = y[0:train_index]\n",
    "X_test = X.iloc[train_index:,:]\n",
    "y_test = y[train_index:]"
   ]
  },
  {
   "cell_type": "markdown",
   "metadata": {},
   "source": [
    "### Model 1"
   ]
  },
  {
   "cell_type": "markdown",
   "metadata": {},
   "source": [
    "Now we need to think about what features to use in our model. My first thought is user demographics might be very useful, so let's start with that."
   ]
  },
  {
   "cell_type": "code",
   "execution_count": 62,
   "metadata": {},
   "outputs": [],
   "source": [
    "def feature_eng_1(old_df,all_data,transaction):\n",
    "    '''\n",
    "    INPUT:\n",
    "    old_df: X_train ready to be engineered\n",
    "    all_data: all data before train & test split\n",
    "    transaction: transaction dataframe \n",
    "    \n",
    "    OUTPUT:\n",
    "    df: new X_train after feature engineering\n",
    "    '''\n",
    "    df = old_df.copy() # create a copy of the original X_train\n",
    "    df.drop(columns =['count'],inplace=True) # drop unnecessary 'count' column\n",
    "    # create binary columns for channels\n",
    "    df['channel_web'] = df['channels'].apply(lambda x:1 if 'web' in x else 0)\n",
    "    df['channel_email']= df['channels'].apply(lambda x:1 if 'email' in x else 0)\n",
    "    df['channel_mobile']= df['channels'].apply(lambda x:1 if 'mobile' in x else 0)\n",
    "    df['channel_social']= df['channels'].apply(lambda x:1 if 'social' in x else 0)\n",
    "    # create a new variable for the number of channels that an offer is sent through\n",
    "    df['num_of_channels'] = df['channel_web'] + df['channel_email'] + df['channel_mobile']+df['channel_social']\n",
    "    df.drop(columns=['channels'],inplace=True) # drop the original channels column\n",
    "\n",
    "    df['member_month'] = df['became_member_on'].dt.month # extract month from date data\n",
    "    df['member_year'] = df['became_member_on'].dt.year # extract year from date data\n",
    "    df.drop(columns=['became_member_on'],inplace=True) # drop the original date column\n",
    "\n",
    "    # create a binary column named 'missing'\n",
    "    # value = 1 if this record comes from an user with missing values in age, gender and income\n",
    "    df['missing'] = df['income'].apply(lambda x:1 if x=='missing' else 0)\n",
    "    \n",
    "    df = pd.concat([df,pd.get_dummies(df['gender'], prefix = 'gender_')],axis = 1) # create binary columns for 'gender'\n",
    "    df.drop(columns = ['gender'], inplace=True) # drop the original 'gender' column\n",
    "    \n",
    "    df = pd.concat([df,pd.get_dummies(df['offer_type'], prefix = 'offer_type_')],axis = 1) # create binary columns for 'offer_type'\n",
    "    df.drop(columns = ['offer_type'], inplace=True) # drop the original 'offer_type' column\n",
    "\n",
    "    # impute 'age' and 'income' by median value\n",
    "    median_age = df[df['age']!='missing']['age'].median()\n",
    "    median_income =df[df['income']!='missing']['income'].median()\n",
    "    df['age'] = df['age'].apply(lambda x: median_age if x=='missing' else x)\n",
    "    df['income'] = df['income'].apply(lambda x:median_income if x=='missing' else x)\n",
    "\n",
    "    # reset index\n",
    "    df = df.reset_index(drop=True)\n",
    "    \n",
    "    # drop unnecessary columns\n",
    "    df.drop(columns = ['person','offer_id','view_or_not',\n",
    "                       'offer_completed_time','offer_received_time', 'offer_viewed_time'],inplace=True)\n",
    "    return df"
   ]
  },
  {
   "cell_type": "code",
   "execution_count": 63,
   "metadata": {},
   "outputs": [],
   "source": [
    "# create new X_train and X_test\n",
    "new_X_train_1 = feature_eng_1(X_train,all_data,transaction)\n",
    "new_X_test_1 = feature_eng_1(X_test,all_data,transaction)"
   ]
  },
  {
   "cell_type": "code",
   "execution_count": 64,
   "metadata": {},
   "outputs": [],
   "source": [
    "# fit a random forest classifier\n",
    "clf_1 = RandomForestClassifier(random_state=1)\n",
    "clf_1.fit(new_X_train_1,y_train)\n",
    "y_pred_1 = clf_1.predict(new_X_test_1)"
   ]
  },
  {
   "cell_type": "code",
   "execution_count": 4,
   "metadata": {},
   "outputs": [],
   "source": [
    "def plot_confusion_matrix(cm, classes,\n",
    "                          normalize=False,\n",
    "                          title='Confusion matrix',\n",
    "                          cmap=plt.cm.Blues):\n",
    "    \"\"\"\n",
    "    This function prints and plots the confusion matrix.\n",
    "    Normalization can be applied by setting `normalize=True`.\n",
    "    \n",
    "    INPUT:\n",
    "    cm: a confusion matrix object created by confusion_matrix() function\n",
    "    classes: a list of classes names\n",
    "    normalize: True if you want to normalize the values shown in the matrix\n",
    "    title: title of the plot\n",
    "    cmap: color scheme to be used\n",
    "    \n",
    "    OUTPUT:\n",
    "    A confusion matrix plot\n",
    "    \"\"\"\n",
    "    plt.figure()\n",
    "    plt.imshow(cm, interpolation='nearest', cmap=cmap)\n",
    "    plt.title(title) # customize title\n",
    "    plt.colorbar() # display the colorbar\n",
    "    tick_marks = np.arange(len(classes))\n",
    "    plt.xticks(tick_marks, classes, rotation=0) # customize x ticks\n",
    "    plt.yticks(tick_marks, classes, rotation=0) # customize y ticks\n",
    "\n",
    "    if normalize:\n",
    "        cm = cm.astype('float') / cm.sum(axis=1)[:, np.newaxis]\n",
    "\n",
    "    thresh = cm.max() / 2.\n",
    "    for i, j in itertools.product(range(cm.shape[0]), range(cm.shape[1])):\n",
    "        plt.text(j, i, cm[i, j],\n",
    "                 horizontalalignment=\"center\",\n",
    "                 color=\"white\" if cm[i, j] > thresh else \"black\")\n",
    "\n",
    "    plt.tight_layout()\n",
    "    plt.ylabel('True label')\n",
    "    plt.xlabel('Predicted label')"
   ]
  },
  {
   "cell_type": "code",
   "execution_count": 5,
   "metadata": {},
   "outputs": [
    {
     "name": "stdout",
     "output_type": "stream",
     "text": [
      "The accuracy of this classifier is 0.7087315022115437.\n"
     ]
    },
    {
     "data": {
      "image/png": "[encoded data removed]",
      "text/plain": [
       "<Figure size 432x288 with 2 Axes>"
      ]
     },
     "metadata": {
      "needs_background": "light"
     },
     "output_type": "display_data"
    }
   ],
   "source": [
    "confusion_mtx = confusion_matrix(y_test, y_pred_1) # create confusion_matrix object\n",
    "plot_confusion_matrix(confusion_mtx, classes = ['Not Complete','Complete'])  # plot the confusion matrix\n",
    "print('The accuracy of this classifier is {}.'.format(accuracy_score(y_pred_1,y_test))) # print accuracy_score"
   ]
  },
  {
   "cell_type": "code",
   "execution_count": 8,
   "metadata": {},
   "outputs": [],
   "source": [
    "def feature_importance_plot(model,num_of_features,new_X_train):\n",
    "    '''\n",
    "    INPUT:\n",
    "    model: a trained machine learning model\n",
    "    num_of_features: the number of top features of interest\n",
    "    new_X_train: the new X_train dataframe after feature engineering\n",
    "    \n",
    "    OUTPUT:\n",
    "    A feature importance bar plot\n",
    "    '''\n",
    "    importances = model.feature_importances_ # extract feature importance from the model object\n",
    "    indices = np.argsort(importances)[::-1] # sort feature importance in descending order\n",
    "    plt.figure(figsize=(10, 4))\n",
    "    plt.title(\"Feature importances\") \n",
    "    plt.bar(range(num_of_features), importances[indices][:num_of_features]\n",
    "            , align=\"center\")\n",
    "    plt.xlabel('Feature Names')\n",
    "    plt.ylabel('Feature Importance')\n",
    "    plt.xticks(range(num_of_features), new_X_train.columns[indices][:num_of_features])\n",
    "    plt.xlim([-1, num_of_features])\n",
    "    plt.show()"
   ]
  },
  {
   "cell_type": "code",
   "execution_count": 9,
   "metadata": {},
   "outputs": [
    {
     "data": {
      "image/png": "[encoded data removed]",
      "text/plain": [
       "<Figure size 720x288 with 1 Axes>"
      ]
     },
     "metadata": {
      "needs_background": "light"
     },
     "output_type": "display_data"
    }
   ],
   "source": [
    "feature_importance_plot(clf_1,5,new_X_train_1) # create the feature importance plot"
   ]
  },
  {
   "cell_type": "markdown",
   "metadata": {},
   "source": [
    "### Model Two "
   ]
  },
  {
   "cell_type": "markdown",
   "metadata": {},
   "source": [
    "Our first model's performance wasn't that good with 70% accuracy. Let's rethink about good features. I have read in *A Collection of Data Science Take-Home Challenges* by Giulio Palombo that user behavior data can be more important than demographics. This is because any user behavior speaks for itself and more importantly reveals information on timing. That being said, let's incorportate some user behavior features into our model to see how it goes."
   ]
  },
  {
   "cell_type": "code",
   "execution_count": 69,
   "metadata": {},
   "outputs": [],
   "source": [
    "def compute_previous_value(df,all_data,transaction):\n",
    "    '''\n",
    "    INPUT:\n",
    "    df: X_train ready to be engineered\n",
    "    all_data: all data before train & test split\n",
    "    transaction: transaction dataframe \n",
    "    \n",
    "    OUTPUT:\n",
    "    df: the original df with 3 extra columns\n",
    "    sum_amount: how much money this customer have spent before this offer record\n",
    "    complete_amount: the number of offers previously completed by this customer\n",
    "    view_count: the number of offers previously viewed by this customer\n",
    "    '''\n",
    "    start_time = time.time()\n",
    "    func3_cnt = 0\n",
    "    for index,row in df.iterrows():\n",
    "        func3_cnt += 1\n",
    "        if func3_cnt % 2000 == 0: # checkpoint for every 2,000 iterations\n",
    "            print('{} lines finished.'.format(func3_cnt))\n",
    "        df.loc[index,'sum_amount'] = transaction[(transaction['person'] == row['person']) & (transaction['time'] < row['offer_received_time'])]['amount'].sum()\n",
    "        df.loc[index,'complete_count'] = all_data[(all_data['person'] == row['person']) & (all_data['receive_count'] < row['receive_count'])]['complete_or_not'].sum()\n",
    "        df.loc[index,'view_count'] = all_data[(all_data['person'] == row['person']) & (all_data['receive_count'] < row['receive_count'])]['view_or_not'].sum()    \n",
    "    end_time = time.time()\n",
    "    print('Calculating complete_count takes {} seconds.'.format(end_time-start_time))\n",
    "    return df"
   ]
  },
  {
   "cell_type": "code",
   "execution_count": 70,
   "metadata": {},
   "outputs": [],
   "source": [
    "def feature_eng_2(old_df,all_data,transaction):\n",
    "    '''\n",
    "    INPUT:\n",
    "    old_df: X_train ready to be engineered\n",
    "    all_data: all data before train & test split\n",
    "    transaction: transaction dataframe \n",
    "    \n",
    "    This function is the same to feature_eng_1 funtion except that this one incorporates create_previous_value function\n",
    "    \n",
    "    OUTPUT:\n",
    "    df: new X_train after feature engineering\n",
    "    '''\n",
    "    \n",
    "    df = old_df.copy()\n",
    "    df.drop(columns =['count'],inplace=True)\n",
    "    \n",
    "    df['channel_web'] = df['channels'].apply(lambda x:1 if 'web' in x else 0)\n",
    "    df['channel_email']= df['channels'].apply(lambda x:1 if 'email' in x else 0)\n",
    "    df['channel_mobile']= df['channels'].apply(lambda x:1 if 'mobile' in x else 0)\n",
    "    df['channel_social']= df['channels'].apply(lambda x:1 if 'social' in x else 0)\n",
    "    df['num_of_channels'] = df['channel_web'] + df['channel_email'] + df['channel_mobile']+df['channel_social']\n",
    "    df.drop(columns=['channels'],inplace=True)\n",
    "\n",
    "    df['member_month'] = df['became_member_on'].dt.month\n",
    "    df['member_year'] = df['became_member_on'].dt.year\n",
    "    df.drop(columns=['became_member_on'],inplace=True)\n",
    "\n",
    "    # mark all records coming from the users with missing values\n",
    "    df['missing'] = df['income'].apply(lambda x:1 if x=='missing' else 0)\n",
    "\n",
    "    # dummy 'gender' column\n",
    "    df = pd.concat([df,pd.get_dummies(df['gender'], prefix = 'gender_')],axis = 1)\n",
    "    df.drop(columns = ['gender'], inplace=True)\n",
    "    # dummy 'offer_type' column\n",
    "    df = pd.concat([df,pd.get_dummies(df['offer_type'], prefix = 'offer_type_')],axis = 1)\n",
    "    df.drop(columns = ['offer_type'], inplace=True)\n",
    "\n",
    "    #impute 'age' and 'income' by median value\n",
    "    median_age = df[df['age']!='missing']['age'].median()\n",
    "    median_income =df[df['income']!='missing']['income'].median()\n",
    "    df['age'] = df['age'].apply(lambda x: median_age if x=='missing' else x)\n",
    "    df['income'] = df['income'].apply(lambda x:median_income if x=='missing' else x)\n",
    "\n",
    "    # reset index\n",
    "    df = df.reset_index(drop=True)\n",
    "    \n",
    "    # run the compute_previous_value function - the only different part from the feature_eng_1 function\n",
    "    df['complete_count'] = None\n",
    "    df = compute_previous_value(df,all_data,transaction)\n",
    "    df['complete_count'] = df['complete_count'].astype(int)\n",
    "    \n",
    "    # drop unnecessary columns\n",
    "    df.drop(columns = ['person','offer_id','view_or_not',\n",
    "                       'offer_completed_time','offer_received_time', 'offer_viewed_time'],inplace=True)\n",
    "    return df"
   ]
  },
  {
   "cell_type": "code",
   "execution_count": 71,
   "metadata": {},
   "outputs": [
    {
     "name": "stdout",
     "output_type": "stream",
     "text": [
      "2000 lines finished.\n",
      "4000 lines finished.\n",
      "6000 lines finished.\n",
      "8000 lines finished.\n",
      "10000 lines finished.\n",
      "12000 lines finished.\n",
      "14000 lines finished.\n",
      "16000 lines finished.\n",
      "18000 lines finished.\n",
      "20000 lines finished.\n",
      "22000 lines finished.\n",
      "24000 lines finished.\n",
      "26000 lines finished.\n",
      "28000 lines finished.\n",
      "30000 lines finished.\n",
      "32000 lines finished.\n",
      "34000 lines finished.\n",
      "36000 lines finished.\n",
      "38000 lines finished.\n",
      "40000 lines finished.\n",
      "42000 lines finished.\n",
      "Calculating complete_count takes 985.8864884376526 seconds.\n",
      "2000 lines finished.\n",
      "4000 lines finished.\n",
      "6000 lines finished.\n",
      "8000 lines finished.\n",
      "10000 lines finished.\n",
      "12000 lines finished.\n",
      "14000 lines finished.\n",
      "16000 lines finished.\n",
      "18000 lines finished.\n",
      "Calculating complete_count takes 438.3746304512024 seconds.\n"
     ]
    }
   ],
   "source": [
    "# create new X_train and X_test\n",
    "new_X_train_2 = feature_eng_2(X_train,all_data,transaction)\n",
    "new_X_test_2 = feature_eng_2(X_test,all_data,transaction)"
   ]
  },
  {
   "cell_type": "code",
   "execution_count": 72,
   "metadata": {},
   "outputs": [],
   "source": [
    "# fit a random forest classifier\n",
    "clf_2 = RandomForestClassifier(random_state=1)\n",
    "clf_2.fit(new_X_train_2,y_train)\n",
    "# make predictions\n",
    "y_pred_2 = clf_2.predict(new_X_test_2)"
   ]
  },
  {
   "cell_type": "code",
   "execution_count": 10,
   "metadata": {},
   "outputs": [
    {
     "name": "stdout",
     "output_type": "stream",
     "text": [
      "The accuracy of this classifier is: 0.7730027849068968.\n"
     ]
    },
    {
     "data": {
      "image/png": "[encoded data removed]",
      "text/plain": [
       "<Figure size 432x288 with 2 Axes>"
      ]
     },
     "metadata": {
      "needs_background": "light"
     },
     "output_type": "display_data"
    }
   ],
   "source": [
    "confusion_mtx = confusion_matrix(y_test, y_pred_2) # create a confusion matrix object\n",
    "plot_confusion_matrix(confusion_mtx, classes = ['Not Complete','Complete']) # plot the confusion matrix\n",
    "print('The accuracy of this classifier is: {}.'.format(accuracy_score(y_pred_2,y_test))) # print the accuracy_score"
   ]
  },
  {
   "cell_type": "code",
   "execution_count": 11,
   "metadata": {},
   "outputs": [
    {
     "data": {
      "image/png": "[encoded data removed]",
      "text/plain": [
       "<Figure size 720x288 with 1 Axes>"
      ]
     },
     "metadata": {
      "needs_background": "light"
     },
     "output_type": "display_data"
    }
   ],
   "source": [
    "feature_importance_plot(clf_2,5,new_X_train_2) # create the feature importance plot"
   ]
  },
  {
   "cell_type": "markdown",
   "metadata": {},
   "source": [
    "### Model Evaluation and Validation"
   ]
  },
  {
   "cell_type": "markdown",
   "metadata": {},
   "source": [
    "As we put it earlier, classification accuracy is the primary metric used to evaluate our model. This is because we have a balanced dataset. By executing 'y_train.value_counts()' and 'y_test.value_counts()' commands, we can see the number of observations with True is approximately the same to the number of observations with False."
   ]
  },
  {
   "cell_type": "code",
   "execution_count": 14,
   "metadata": {},
   "outputs": [
    {
     "name": "stdout",
     "output_type": "stream",
     "text": [
      "True     23191\n",
      "False    19538\n",
      "Name: complete_or_not, dtype: int64\n",
      "True     9910\n",
      "False    8403\n",
      "Name: complete_or_not, dtype: int64\n"
     ]
    }
   ],
   "source": [
    "print(y_train.value_counts())\n",
    "print(y_test.value_counts())"
   ]
  },
  {
   "cell_type": "markdown",
   "metadata": {},
   "source": [
    "The accuracy of the **first** model is 0.7087. The top 5 important features are income, age, date columns and receive_count.The accuracy of the **second** model is 0.7730. the top 5 features are sum_amount, income, age and date columns.\n",
    "\n",
    "Remember the difference between the two offers is that we add customer previous behavior features into the **second** model, which leads to an increase on accuracy. The new 'sum_amount' variable turns out to be very beneficial to our model. This is an example of good feature engineering! Thus in further interpretation, we only focus on the **second** model."
   ]
  },
  {
   "cell_type": "markdown",
   "metadata": {},
   "source": [
    "#### Is our model trustworthy? "
   ]
  },
  {
   "cell_type": "markdown",
   "metadata": {},
   "source": [
    "To validate our model and better sell it to the decision makers, we should think from a business standpoint whether our model makes sense or not. One good way is to check if the results of our model is counterintuitive. If it is, we either just discovered something new and groundbreaking or we literally made something very wrong (most of the time...). Remember at the very beginning we made some assumptions, we can start from there."
   ]
  },
  {
   "cell_type": "code",
   "execution_count": 20,
   "metadata": {
    "collapsed": true
   },
   "outputs": [
    {
     "data": {
      "text/html": [
       "<div>\n",
       "<style scoped>\n",
       "    .dataframe tbody tr th:only-of-type {\n",
       "        vertical-align: middle;\n",
       "    }\n",
       "\n",
       "    .dataframe tbody tr th {\n",
       "        vertical-align: top;\n",
       "    }\n",
       "\n",
       "    .dataframe thead th {\n",
       "        text-align: right;\n",
       "    }\n",
       "</style>\n",
       "<table border=\"1\" class=\"dataframe\">\n",
       "  <thead>\n",
       "    <tr style=\"text-align: right;\">\n",
       "      <th></th>\n",
       "      <th>reward</th>\n",
       "      <th>difficulty</th>\n",
       "      <th>duration</th>\n",
       "      <th>age</th>\n",
       "      <th>income</th>\n",
       "      <th>receive_count</th>\n",
       "      <th>channel_web</th>\n",
       "      <th>channel_email</th>\n",
       "      <th>channel_mobile</th>\n",
       "      <th>channel_social</th>\n",
       "      <th>...</th>\n",
       "      <th>gender__O</th>\n",
       "      <th>gender__missing</th>\n",
       "      <th>offer_type__bogo</th>\n",
       "      <th>offer_type__discount</th>\n",
       "      <th>complete_count</th>\n",
       "      <th>sum_amount</th>\n",
       "      <th>view_count</th>\n",
       "      <th>index</th>\n",
       "      <th>complete_or_not</th>\n",
       "      <th>pred</th>\n",
       "    </tr>\n",
       "  </thead>\n",
       "  <tbody>\n",
       "    <tr>\n",
       "      <th>0</th>\n",
       "      <td>10</td>\n",
       "      <td>10</td>\n",
       "      <td>7</td>\n",
       "      <td>40.0</td>\n",
       "      <td>57000.0</td>\n",
       "      <td>2.0</td>\n",
       "      <td>0</td>\n",
       "      <td>1</td>\n",
       "      <td>1</td>\n",
       "      <td>1</td>\n",
       "      <td>...</td>\n",
       "      <td>0</td>\n",
       "      <td>0</td>\n",
       "      <td>1</td>\n",
       "      <td>0</td>\n",
       "      <td>2</td>\n",
       "      <td>54.43</td>\n",
       "      <td>2.0</td>\n",
       "      <td>42729</td>\n",
       "      <td>True</td>\n",
       "      <td>True</td>\n",
       "    </tr>\n",
       "    <tr>\n",
       "      <th>1</th>\n",
       "      <td>5</td>\n",
       "      <td>20</td>\n",
       "      <td>10</td>\n",
       "      <td>49.0</td>\n",
       "      <td>85000.0</td>\n",
       "      <td>2.0</td>\n",
       "      <td>1</td>\n",
       "      <td>1</td>\n",
       "      <td>0</td>\n",
       "      <td>0</td>\n",
       "      <td>...</td>\n",
       "      <td>0</td>\n",
       "      <td>0</td>\n",
       "      <td>0</td>\n",
       "      <td>1</td>\n",
       "      <td>1</td>\n",
       "      <td>25.53</td>\n",
       "      <td>1.0</td>\n",
       "      <td>42730</td>\n",
       "      <td>False</td>\n",
       "      <td>True</td>\n",
       "    </tr>\n",
       "    <tr>\n",
       "      <th>2</th>\n",
       "      <td>3</td>\n",
       "      <td>7</td>\n",
       "      <td>7</td>\n",
       "      <td>28.0</td>\n",
       "      <td>65000.0</td>\n",
       "      <td>2.0</td>\n",
       "      <td>1</td>\n",
       "      <td>1</td>\n",
       "      <td>1</td>\n",
       "      <td>1</td>\n",
       "      <td>...</td>\n",
       "      <td>0</td>\n",
       "      <td>0</td>\n",
       "      <td>0</td>\n",
       "      <td>1</td>\n",
       "      <td>1</td>\n",
       "      <td>37.12</td>\n",
       "      <td>2.0</td>\n",
       "      <td>42731</td>\n",
       "      <td>False</td>\n",
       "      <td>True</td>\n",
       "    </tr>\n",
       "    <tr>\n",
       "      <th>3</th>\n",
       "      <td>10</td>\n",
       "      <td>10</td>\n",
       "      <td>7</td>\n",
       "      <td>63.0</td>\n",
       "      <td>92000.0</td>\n",
       "      <td>1.0</td>\n",
       "      <td>0</td>\n",
       "      <td>1</td>\n",
       "      <td>1</td>\n",
       "      <td>1</td>\n",
       "      <td>...</td>\n",
       "      <td>0</td>\n",
       "      <td>0</td>\n",
       "      <td>1</td>\n",
       "      <td>0</td>\n",
       "      <td>1</td>\n",
       "      <td>126.92</td>\n",
       "      <td>1.0</td>\n",
       "      <td>42732</td>\n",
       "      <td>True</td>\n",
       "      <td>True</td>\n",
       "    </tr>\n",
       "    <tr>\n",
       "      <th>4</th>\n",
       "      <td>5</td>\n",
       "      <td>5</td>\n",
       "      <td>7</td>\n",
       "      <td>60.0</td>\n",
       "      <td>47000.0</td>\n",
       "      <td>4.0</td>\n",
       "      <td>1</td>\n",
       "      <td>1</td>\n",
       "      <td>1</td>\n",
       "      <td>0</td>\n",
       "      <td>...</td>\n",
       "      <td>0</td>\n",
       "      <td>0</td>\n",
       "      <td>1</td>\n",
       "      <td>0</td>\n",
       "      <td>4</td>\n",
       "      <td>111.31</td>\n",
       "      <td>4.0</td>\n",
       "      <td>42733</td>\n",
       "      <td>True</td>\n",
       "      <td>True</td>\n",
       "    </tr>\n",
       "    <tr>\n",
       "      <th>...</th>\n",
       "      <td>...</td>\n",
       "      <td>...</td>\n",
       "      <td>...</td>\n",
       "      <td>...</td>\n",
       "      <td>...</td>\n",
       "      <td>...</td>\n",
       "      <td>...</td>\n",
       "      <td>...</td>\n",
       "      <td>...</td>\n",
       "      <td>...</td>\n",
       "      <td>...</td>\n",
       "      <td>...</td>\n",
       "      <td>...</td>\n",
       "      <td>...</td>\n",
       "      <td>...</td>\n",
       "      <td>...</td>\n",
       "      <td>...</td>\n",
       "      <td>...</td>\n",
       "      <td>...</td>\n",
       "      <td>...</td>\n",
       "      <td>...</td>\n",
       "    </tr>\n",
       "    <tr>\n",
       "      <th>18308</th>\n",
       "      <td>2</td>\n",
       "      <td>10</td>\n",
       "      <td>10</td>\n",
       "      <td>58.0</td>\n",
       "      <td>110000.0</td>\n",
       "      <td>2.0</td>\n",
       "      <td>1</td>\n",
       "      <td>1</td>\n",
       "      <td>1</td>\n",
       "      <td>1</td>\n",
       "      <td>...</td>\n",
       "      <td>0</td>\n",
       "      <td>0</td>\n",
       "      <td>0</td>\n",
       "      <td>1</td>\n",
       "      <td>2</td>\n",
       "      <td>95.21</td>\n",
       "      <td>2.0</td>\n",
       "      <td>61037</td>\n",
       "      <td>True</td>\n",
       "      <td>True</td>\n",
       "    </tr>\n",
       "    <tr>\n",
       "      <th>18309</th>\n",
       "      <td>10</td>\n",
       "      <td>10</td>\n",
       "      <td>7</td>\n",
       "      <td>52.0</td>\n",
       "      <td>56000.0</td>\n",
       "      <td>3.0</td>\n",
       "      <td>0</td>\n",
       "      <td>1</td>\n",
       "      <td>1</td>\n",
       "      <td>1</td>\n",
       "      <td>...</td>\n",
       "      <td>0</td>\n",
       "      <td>0</td>\n",
       "      <td>1</td>\n",
       "      <td>0</td>\n",
       "      <td>2</td>\n",
       "      <td>151.03</td>\n",
       "      <td>2.0</td>\n",
       "      <td>61038</td>\n",
       "      <td>True</td>\n",
       "      <td>True</td>\n",
       "    </tr>\n",
       "    <tr>\n",
       "      <th>18310</th>\n",
       "      <td>10</td>\n",
       "      <td>10</td>\n",
       "      <td>7</td>\n",
       "      <td>56.0</td>\n",
       "      <td>55000.0</td>\n",
       "      <td>5.0</td>\n",
       "      <td>0</td>\n",
       "      <td>1</td>\n",
       "      <td>1</td>\n",
       "      <td>1</td>\n",
       "      <td>...</td>\n",
       "      <td>0</td>\n",
       "      <td>0</td>\n",
       "      <td>1</td>\n",
       "      <td>0</td>\n",
       "      <td>5</td>\n",
       "      <td>135.83</td>\n",
       "      <td>5.0</td>\n",
       "      <td>61039</td>\n",
       "      <td>True</td>\n",
       "      <td>True</td>\n",
       "    </tr>\n",
       "    <tr>\n",
       "      <th>18311</th>\n",
       "      <td>10</td>\n",
       "      <td>10</td>\n",
       "      <td>5</td>\n",
       "      <td>46.0</td>\n",
       "      <td>31000.0</td>\n",
       "      <td>5.0</td>\n",
       "      <td>1</td>\n",
       "      <td>1</td>\n",
       "      <td>1</td>\n",
       "      <td>1</td>\n",
       "      <td>...</td>\n",
       "      <td>0</td>\n",
       "      <td>0</td>\n",
       "      <td>1</td>\n",
       "      <td>0</td>\n",
       "      <td>1</td>\n",
       "      <td>111.31</td>\n",
       "      <td>1.0</td>\n",
       "      <td>61040</td>\n",
       "      <td>True</td>\n",
       "      <td>False</td>\n",
       "    </tr>\n",
       "    <tr>\n",
       "      <th>18312</th>\n",
       "      <td>2</td>\n",
       "      <td>10</td>\n",
       "      <td>7</td>\n",
       "      <td>33.0</td>\n",
       "      <td>72000.0</td>\n",
       "      <td>4.0</td>\n",
       "      <td>1</td>\n",
       "      <td>1</td>\n",
       "      <td>1</td>\n",
       "      <td>0</td>\n",
       "      <td>...</td>\n",
       "      <td>0</td>\n",
       "      <td>0</td>\n",
       "      <td>0</td>\n",
       "      <td>1</td>\n",
       "      <td>2</td>\n",
       "      <td>58.40</td>\n",
       "      <td>2.0</td>\n",
       "      <td>61041</td>\n",
       "      <td>True</td>\n",
       "      <td>True</td>\n",
       "    </tr>\n",
       "  </tbody>\n",
       "</table>\n",
       "<p>18313 rows × 26 columns</p>\n",
       "</div>"
      ],
      "text/plain": [
       "       reward  difficulty  duration   age    income  receive_count  \\\n",
       "0          10          10         7  40.0   57000.0            2.0   \n",
       "1           5          20        10  49.0   85000.0            2.0   \n",
       "2           3           7         7  28.0   65000.0            2.0   \n",
       "3          10          10         7  63.0   92000.0            1.0   \n",
       "4           5           5         7  60.0   47000.0            4.0   \n",
       "...       ...         ...       ...   ...       ...            ...   \n",
       "18308       2          10        10  58.0  110000.0            2.0   \n",
       "18309      10          10         7  52.0   56000.0            3.0   \n",
       "18310      10          10         7  56.0   55000.0            5.0   \n",
       "18311      10          10         5  46.0   31000.0            5.0   \n",
       "18312       2          10         7  33.0   72000.0            4.0   \n",
       "\n",
       "       channel_web  channel_email  channel_mobile  channel_social  ...  \\\n",
       "0                0              1               1               1  ...   \n",
       "1                1              1               0               0  ...   \n",
       "2                1              1               1               1  ...   \n",
       "3                0              1               1               1  ...   \n",
       "4                1              1               1               0  ...   \n",
       "...            ...            ...             ...             ...  ...   \n",
       "18308            1              1               1               1  ...   \n",
       "18309            0              1               1               1  ...   \n",
       "18310            0              1               1               1  ...   \n",
       "18311            1              1               1               1  ...   \n",
       "18312            1              1               1               0  ...   \n",
       "\n",
       "       gender__O  gender__missing  offer_type__bogo  offer_type__discount  \\\n",
       "0              0                0                 1                     0   \n",
       "1              0                0                 0                     1   \n",
       "2              0                0                 0                     1   \n",
       "3              0                0                 1                     0   \n",
       "4              0                0                 1                     0   \n",
       "...          ...              ...               ...                   ...   \n",
       "18308          0                0                 0                     1   \n",
       "18309          0                0                 1                     0   \n",
       "18310          0                0                 1                     0   \n",
       "18311          0                0                 1                     0   \n",
       "18312          0                0                 0                     1   \n",
       "\n",
       "       complete_count  sum_amount  view_count  index  complete_or_not   pred  \n",
       "0                   2       54.43         2.0  42729             True   True  \n",
       "1                   1       25.53         1.0  42730            False   True  \n",
       "2                   1       37.12         2.0  42731            False   True  \n",
       "3                   1      126.92         1.0  42732             True   True  \n",
       "4                   4      111.31         4.0  42733             True   True  \n",
       "...               ...         ...         ...    ...              ...    ...  \n",
       "18308               2       95.21         2.0  61037             True   True  \n",
       "18309               2      151.03         2.0  61038             True   True  \n",
       "18310               5      135.83         5.0  61039             True   True  \n",
       "18311               1      111.31         1.0  61040             True  False  \n",
       "18312               2       58.40         2.0  61041             True   True  \n",
       "\n",
       "[18313 rows x 26 columns]"
      ]
     },
     "execution_count": 20,
     "metadata": {},
     "output_type": "execute_result"
    }
   ],
   "source": [
    "# let's put our predictions and the original test set together\n",
    "result_df = pd.concat([new_X_test_2,y_test.reset_index(drop=True),pd.Series(y_pred_2)],axis=1).rename(columns={0:'pred'})\n",
    "result_df"
   ]
  },
  {
   "cell_type": "code",
   "execution_count": 105,
   "metadata": {},
   "outputs": [
    {
     "name": "stdout",
     "output_type": "stream",
     "text": [
      "The median income of all customers in the test set: 64000.0\n",
      "The median income of customers predicted to complete an offer in the test set: 69000.0\n",
      "The mean income of all customers in the test set: 65174.35701414296\n",
      "The mean income of customers predicted to complete an offer in the test set: 69781.54962425499\n"
     ]
    }
   ],
   "source": [
    "print('The median income of all customers in the test set:',result_df['income'].median())\n",
    "print('The median income of customers predicted to complete an offer in the test set:',result_df[result_df['pred'] == True]['income'].median())\n",
    "print('The mean income of all customers in the test set:',result_df['income'].mean())\n",
    "print('The mean income of customers predicted to complete an offer in the test set:',result_df[result_df['pred'] == True]['income'].mean())"
   ]
  },
  {
   "cell_type": "markdown",
   "metadata": {},
   "source": [
    "The median and mean income of customers predicted to complete an offer are higher than those of all customers. Our model assignes people with higher income high probability to complete an offer, which is consistent with one of our assumptions that these people have more capability to complete an offer."
   ]
  },
  {
   "cell_type": "code",
   "execution_count": 119,
   "metadata": {},
   "outputs": [
    {
     "data": {
      "image/png": "[encoded data removed]",
      "text/plain": [
       "<Figure size 864x288 with 2 Axes>"
      ]
     },
     "metadata": {
      "needs_background": "light"
     },
     "output_type": "display_data"
    }
   ],
   "source": [
    "fig, (ax1,ax2) = plt.subplots(1, 2)\n",
    "fig.set_size_inches(12, 4)\n",
    "sns.countplot(result_df['member_year'],ax=ax1).set_title('Distribution of member_year for all customers')\n",
    "sns.countplot(result_df[result_df['pred'] == True]['member_year'],ax=ax2).set_title('Distribution of member_year for customers predicted to complete')\n",
    "plt.show()"
   ]
  },
  {
   "cell_type": "markdown",
   "metadata": {},
   "source": [
    "These two countplots look similar. However, if we look closer, we can notice that the proportions of 2015 and 2016 members are higher in the right plot. That means our model thinks customers who became members in 2015 and 2016 are more likely to complete an offer than others, especially than those 2018 members. Our model has started formulating its own definition of loyal customers."
   ]
  },
  {
   "cell_type": "code",
   "execution_count": 120,
   "metadata": {},
   "outputs": [
    {
     "name": "stdout",
     "output_type": "stream",
     "text": [
      "The median income of all customers in the test set: 46.47\n",
      "The median income of customers predicted to complete an offer in the test set: 86.82\n",
      "The mean income of all customers in the test set: 74.3809266641182\n",
      "The mean income of customers predicted to complete an offer in the test set: 108.12670553684032\n"
     ]
    }
   ],
   "source": [
    "print('The median income of all customers in the test set:',result_df['sum_amount'].median())\n",
    "print('The median income of customers predicted to complete an offer in the test set:',result_df[result_df['pred'] == True]['sum_amount'].median())\n",
    "print('The mean income of all customers in the test set:',result_df['sum_amount'].mean())\n",
    "print('The mean income of customers predicted to complete an offer in the test set:',result_df[result_df['pred'] == True]['sum_amount'].mean())"
   ]
  },
  {
   "cell_type": "markdown",
   "metadata": {},
   "source": [
    "Similar to what we have found about income, the median and mean 'sum_amount' of customers predicted to complete an offer are higher than those of all customers. This makes sense because these customers are using their actions to prove themselves as loyal customers and our model has noticed that."
   ]
  },
  {
   "cell_type": "markdown",
   "metadata": {},
   "source": [
    "As stated above, our model's performance is not counterintuitive, which makes whoever you will present to less reluctant and more willing to accept it."
   ]
  },
  {
   "cell_type": "markdown",
   "metadata": {},
   "source": [
    "#### Where does our model make mistakes?"
   ]
  },
  {
   "cell_type": "markdown",
   "metadata": {},
   "source": [
    "Finding out where the current model is making mistakes is super helpful to refine a model. It can at least trigger some ideas on what other data to collect and what other features to create if possible."
   ]
  },
  {
   "cell_type": "code",
   "execution_count": 123,
   "metadata": {},
   "outputs": [
    {
     "data": {
      "text/html": [
       "<div>\n",
       "<style scoped>\n",
       "    .dataframe tbody tr th:only-of-type {\n",
       "        vertical-align: middle;\n",
       "    }\n",
       "\n",
       "    .dataframe tbody tr th {\n",
       "        vertical-align: top;\n",
       "    }\n",
       "\n",
       "    .dataframe thead th {\n",
       "        text-align: right;\n",
       "    }\n",
       "</style>\n",
       "<table border=\"1\" class=\"dataframe\">\n",
       "  <thead>\n",
       "    <tr style=\"text-align: right;\">\n",
       "      <th></th>\n",
       "      <th>age</th>\n",
       "      <th>income</th>\n",
       "      <th>complete_count</th>\n",
       "      <th>sum_amount</th>\n",
       "      <th>view_count</th>\n",
       "      <th>member_year</th>\n",
       "    </tr>\n",
       "  </thead>\n",
       "  <tbody>\n",
       "    <tr>\n",
       "      <th>5829</th>\n",
       "      <td>64.0</td>\n",
       "      <td>89000.0</td>\n",
       "      <td>0</td>\n",
       "      <td>0.0</td>\n",
       "      <td>4.0</td>\n",
       "      <td>2018</td>\n",
       "    </tr>\n",
       "    <tr>\n",
       "      <th>17828</th>\n",
       "      <td>60.0</td>\n",
       "      <td>113000.0</td>\n",
       "      <td>0</td>\n",
       "      <td>0.0</td>\n",
       "      <td>0.0</td>\n",
       "      <td>2015</td>\n",
       "    </tr>\n",
       "    <tr>\n",
       "      <th>7472</th>\n",
       "      <td>59.0</td>\n",
       "      <td>86000.0</td>\n",
       "      <td>0</td>\n",
       "      <td>0.0</td>\n",
       "      <td>2.0</td>\n",
       "      <td>2018</td>\n",
       "    </tr>\n",
       "    <tr>\n",
       "      <th>5347</th>\n",
       "      <td>60.0</td>\n",
       "      <td>112000.0</td>\n",
       "      <td>0</td>\n",
       "      <td>0.0</td>\n",
       "      <td>1.0</td>\n",
       "      <td>2017</td>\n",
       "    </tr>\n",
       "    <tr>\n",
       "      <th>2920</th>\n",
       "      <td>49.0</td>\n",
       "      <td>74000.0</td>\n",
       "      <td>0</td>\n",
       "      <td>0.0</td>\n",
       "      <td>1.0</td>\n",
       "      <td>2015</td>\n",
       "    </tr>\n",
       "    <tr>\n",
       "      <th>14690</th>\n",
       "      <td>59.0</td>\n",
       "      <td>113000.0</td>\n",
       "      <td>0</td>\n",
       "      <td>0.0</td>\n",
       "      <td>1.0</td>\n",
       "      <td>2018</td>\n",
       "    </tr>\n",
       "    <tr>\n",
       "      <th>11286</th>\n",
       "      <td>46.0</td>\n",
       "      <td>61000.0</td>\n",
       "      <td>0</td>\n",
       "      <td>0.0</td>\n",
       "      <td>3.0</td>\n",
       "      <td>2016</td>\n",
       "    </tr>\n",
       "    <tr>\n",
       "      <th>13080</th>\n",
       "      <td>79.0</td>\n",
       "      <td>77000.0</td>\n",
       "      <td>0</td>\n",
       "      <td>0.0</td>\n",
       "      <td>1.0</td>\n",
       "      <td>2016</td>\n",
       "    </tr>\n",
       "    <tr>\n",
       "      <th>13668</th>\n",
       "      <td>51.0</td>\n",
       "      <td>101000.0</td>\n",
       "      <td>0</td>\n",
       "      <td>0.0</td>\n",
       "      <td>1.0</td>\n",
       "      <td>2018</td>\n",
       "    </tr>\n",
       "    <tr>\n",
       "      <th>13036</th>\n",
       "      <td>78.0</td>\n",
       "      <td>79000.0</td>\n",
       "      <td>0</td>\n",
       "      <td>0.0</td>\n",
       "      <td>0.0</td>\n",
       "      <td>2015</td>\n",
       "    </tr>\n",
       "  </tbody>\n",
       "</table>\n",
       "</div>"
      ],
      "text/plain": [
       "        age    income  complete_count  sum_amount  view_count  member_year\n",
       "5829   64.0   89000.0               0         0.0         4.0         2018\n",
       "17828  60.0  113000.0               0         0.0         0.0         2015\n",
       "7472   59.0   86000.0               0         0.0         2.0         2018\n",
       "5347   60.0  112000.0               0         0.0         1.0         2017\n",
       "2920   49.0   74000.0               0         0.0         1.0         2015\n",
       "14690  59.0  113000.0               0         0.0         1.0         2018\n",
       "11286  46.0   61000.0               0         0.0         3.0         2016\n",
       "13080  79.0   77000.0               0         0.0         1.0         2016\n",
       "13668  51.0  101000.0               0         0.0         1.0         2018\n",
       "13036  78.0   79000.0               0         0.0         0.0         2015"
      ]
     },
     "execution_count": 123,
     "metadata": {},
     "output_type": "execute_result"
    }
   ],
   "source": [
    "# wrong predictions\n",
    "result_df[(result_df['pred'] == True) & (result_df['complete_or_not'] ==0)].sort_values(['sum_amount'])[['age','income','complete_count',\n",
    "                                                                                                         'sum_amount','view_count','member_year']].head(10)"
   ]
  },
  {
   "cell_type": "markdown",
   "metadata": {},
   "source": [
    "These are ten examples where our model predict as 'complete' but actually they didn't. I have sorted this list by 'sum_amount' in asending order. Although all the customers haven't completed an offer or even spent any money before, they are still predicted as 'complete'. So what happened? First, 9 customer out of 10 have an income higher than the mean/median value we saw before, so it explains. Second, for customer with index of 11286, even though he/she has a lower income, this customer became member in 2016. This is the year considered by our model as the 'loyal' year. "
   ]
  },
  {
   "cell_type": "markdown",
   "metadata": {},
   "source": [
    "In short, every wrong prediction comes with at least one trait that entices our model to make a mistake. In real life, the next step is to collect more data samples and also features. For example, most of the wrong predictions might have one feature that we neglect but significantly differentiate themselves from the others. If we were able to discover that, our model will improve a lot."
   ]
  },
  {
   "cell_type": "markdown",
   "metadata": {},
   "source": [
    "## PART 4. Conclusion"
   ]
  },
  {
   "cell_type": "markdown",
   "metadata": {},
   "source": [
    "Here is a summary of key takeaways:\n",
    "\n",
    "1. Including customer behavior data can significantly improve the performance of machine learning model. Sometimes they are way more important than customer demographics.\n",
    "2. Our model has established its own definition of a loyal customer: having higher income, spending more money and becaming member in either 2015 or 2016.\n",
    "3. Data wrangling can be very time-consuming. Audiences are not interested in that and analysts don't like it either. However, a machine learning cannot be built without it.\n",
    "4. Our model's accuracy is about 77%. It is not bad but there is still room for improvement.\n",
    "\n"
   ]
  },
  {
   "cell_type": "markdown",
   "metadata": {},
   "source": [
    "So, how can we improve the current model? \n",
    "1. **Use grid search.** As you may have noticed, our model is trained with default parameters. Nonetheless, grid search can help us iterate through different combinations of parameters and optimize it. Grid search is simple and often guarantees a higher accuracy but takes a lot of time to run. It should always come last when you have already successfully built something that works.\n",
    "2. **Collect more data, both in sample size and the number of features.** How larger sample size benefits machine learning doesn't need more explanation. It has been a dream for many data science people but unfortunately it is seldom realized. Having more features is more possible though. It really depends on the sense that one person has about the context, i.e. whether he/she knows a feature is useful or not. In our case, ignoring customer behavior data would limit the model performance."
   ]
  },
  {
   "cell_type": "markdown",
   "metadata": {},
   "source": [
    "At the end of this notebook, here are some reflections:\n",
    "\n",
    "1. **Try using sample data when running on the whole dataset takes too long.** Due to a few loops in the data wrangling part, running this whole notebook can take more than 40 minutes. That's why I created 'subset_users' and 'subset_transcript' tables to hold sample data. With that, I was able to test my changes to functions by running the whole notebook with only a minute. But by the end of the day, make sure you have run the model using the whole data set at least once.\n",
    "2. **Stick to the best practices.** I first developed my code in a procedural manner because I didn't know what functions to have at the very beginning. Nonetheless, after I have got everything I need, I then organized them into different functions. That makes my code look cleaner and more readable. \n",
    "3. **Think of one question and answer that as well as possible.** When I saw the data set, I had a few questions in my head and tried to solve them all. Then I realized how impossible that was. Solving multiple questions might end up solving none of them. Focusing on one instead made me feel more relaxed and efficient. In real business, people don't usually have time finishing one problem well, let alone solving multiple ones at the same time.\n",
    "4. **Don't push too hard on perfection but on refinement.** Data analysis is art and science, so there is not a correct answer to a problem. Different people can arrive at different conclusions due to different approaches used. What really matters is whether one backs up the analysis with concrete evidence and logic. More importantly, one should always try refining the analysis based on the previous trials. Iterative experiment is crucial to machine learning. \n",
    "\n"
   ]
  },
  {
   "cell_type": "code",
   "execution_count": 124,
   "metadata": {},
   "outputs": [],
   "source": []
  },
  {
   "cell_type": "code",
   "execution_count": null,
   "metadata": {},
   "outputs": [],
   "source": []
  },
  {
   "cell_type": "code",
   "execution_count": null,
   "metadata": {},
   "outputs": [],
   "source": []
  },
  {
   "cell_type": "code",
   "execution_count": null,
   "metadata": {},
   "outputs": [],
   "source": []
  },
  {
   "cell_type": "code",
   "execution_count": null,
   "metadata": {},
   "outputs": [],
   "source": []
  },
  {
   "cell_type": "code",
   "execution_count": null,
   "metadata": {},
   "outputs": [],
   "source": []
  },
  {
   "cell_type": "code",
   "execution_count": null,
   "metadata": {},
   "outputs": [],
   "source": []
  }
 ],
 "metadata": {
  "kernelspec": {
   "display_name": "Python 3",
   "language": "python",
   "name": "python3"
  },
  "language_info": {
   "codemirror_mode": {
    "name": "ipython",
    "version": 3
   },
   "file_extension": ".py",
   "mimetype": "text/x-python",
   "name": "python",
   "nbconvert_exporter": "python",
   "pygments_lexer": "ipython3",
   "version": "3.7.6"
  }
 },
 "nbformat": 4,
 "nbformat_minor": 2
}
